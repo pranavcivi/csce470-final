{
 "cells": [
  {
   "cell_type": "code",
   "execution_count": 84,
   "metadata": {},
   "outputs": [],
   "source": [
    "import math\n",
    "from collections import Counter\n",
    "import pickle\n",
    "import re\n",
    "# %pip install lyricsgenius\n",
    "from lyricsgenius import Genius\n",
    "\n",
    "with open('../lyrics.pkl', 'rb') as f:\n",
    "    song_lyrics = pickle.load(f)\n",
    "\n",
    "\n",
    "with open('../classifications.pkl', 'rb') as f1:\n",
    "    classifications = pickle.load(f1)\n",
    "\n",
    "with open('../big_songs.pkl', 'rb') as f2:\n",
    "    big_songs = pickle.load(f2)\n",
    "\n",
    "def tokenize(lyrics):\n",
    "    return lyrics.lower().split()\n",
    "\n",
    "k1 = 1.2\n",
    "b = 0.2"
   ]
  },
  {
   "cell_type": "code",
   "execution_count": 85,
   "metadata": {},
   "outputs": [
    {
     "name": "stdout",
     "output_type": "stream",
     "text": [
      "Searching for \"Venom\" by Eminem...\n",
      "Done.\n"
     ]
    }
   ],
   "source": [
    "# call the api to get the lyrics\n",
    "\n",
    "genius = Genius('HhcPCGMwENzdfMQlauEV1Om0UormkWc6Wrwxri-LFTfBSNkzhwMSVUnR5tZG8eXW')\n",
    "genius.remove_section_headers = True\n",
    "genius.skip_non_songs = False\n",
    "genius.excluded_terms = [\"Remix\", \"Live\"]\n",
    "\n",
    "# song_name = \"Happy\"\n",
    "# artist = \"Pharrel Williams\"\n",
    "# song_name = \"Firework\"\n",
    "# artist = \"Katy Perry\"\n",
    "song_name = \"I Hate Everything About You\"\n",
    "artist = \"Three Days Grace\"\n",
    "\n",
    "song = genius.search_song(song_name, artist)\n",
    "pos = song.lyrics.find(f'{song_name} Lyrics')\n",
    "query = song.lyrics[pos:]\n",
    "\n"
   ]
  },
  {
   "cell_type": "code",
   "execution_count": 86,
   "metadata": {},
   "outputs": [
    {
     "data": {
      "text/plain": [
       "'venom lyrics i got a song filled with shit for the strongwilled when the world gives you a raw deal sets you off til you scream piss off screw you when it talks to you like you dont belong or tells you youre in the wrong field when somethings in your mitochondrial cause it latched on to you like  knock knock let the devil in manevolent as ive ever been head is spinnin this medicines screamin llllet us in llllike a salad bowl edgar allan poe bedridden shoulda been dead a long time ago liquid tylenol gelatins think my skeletons meltin wicked i get all high when i think ive smelled the scent of elephant manurehell i meant kahlúa screw it to hell with it i went through hell with accelerants and blew up mymymyself again volkswagen tailspin bucket matches my pale skin mayo and went from hellmanns and being rail thin filetofish scribble jam rap olympics  freaknik how can i be down me and bizarre in florida proofs room slept on the floor of da motel then dr dre said hell yeah and i got his stamp like a postcard word to melman and i know theyre gonna hate but i dont care i barely can wait to hit em with the snare and the bass square in the face this fuckin world better prepare to get laced because theyre gonna taste my see eminem liveget tickets as low as you might also like venom i got that adrenaline momentum and im not knowin when im ever gonna slow up and im ready to snap any moment im thinkin its time to go get em they aint gonna know what hit em wwwhen they get bit with the venom i got that adrenaline momentum and im not knowin when im ever gonna slow up and im ready to snap any moment im thinkin its time to go get em they aint gonna know what hit em wwwhen they get bit with the  i said knock knock let the devil in shotgun pppellets in the felt pen cocked fuck around and catch a hot one itits evident im not done vvenomous the thoughts spun like a web and you just caught in em held against your will like a hubcap or mud flap beat strangler attack so this aint gonna feel like a love tap eat painkiller pills fuck up the track like whats her names at the wheel danica patrick threw the car into reverse at the indy a nut crashin into ya the back of it just mangled steel my mustang and the jeep wrangler grill with the front smashed much as my rear fender assassin slim be a combination of an actual kamikaze and gandhi gandhi translation i will probably kill us both when i end up backin into ya you aint gonna be able to tell what the fucks happenin to ya when youre bit with the venom adrenaline momentum and im not knowin when im ever gonna slow up and im ready to snap any moment im thinkin its time to go get em they aint gonna know what hit em wwwhen they get bit with the venom i got that adrenaline momentum and im not knowin when im ever gonna slow up and im ready to snap any moment im thinkin its time to go get em they aint gonna know what hit em wwwhen they get bit with the  i said knock knock let the devil in alien eeelliott phone home aint no telling when this chokehold on this game will end im loco became a symbiote so my fangs are in your throat ho youre snakebitten with myvenom with the ballpoint pen im gun cocked bump stock doubleaught buckshot tire thumper a garrote tie a couple knots fired up and caught fire juggernaut punk rock bitch its goin down like yung joc cause the doc put me on like sunblock why the fuck not you only get one shot ate shit til i cant taste it chased it with straight liquor then paint thinner then drank til i faint and awake with a headache and i take anything in rectangular shape then i wait to face the demons im bonded to cause theyre chasin me but im part of you so escapin me is impossible i latch onto you like aparasite and i probably ruined your parents life and your childhood too cause if im the music that yall grew up on im responsible for you retarded fools im the super villain dad and mom was losin their marbles to you marvel that eddie brock is you and im the suit so call me venom i got that adrenaline momentum and im not knowin when im ever gonna slow up and im ready to snap any moment im thinkin its time to go get em they aint gonna know what hit em wwwhen they get bit with the venom i got that adrenaline momentum and im not knowin when im ever gonna slow up and im ready to snap any moment im thinkin its time to go get em they aint gonna know what hit em wwwhen they get bit with theembed'"
      ]
     },
     "execution_count": 86,
     "metadata": {},
     "output_type": "execute_result"
    }
   ],
   "source": [
    "# then remove  capital letters and non alphanumeric characters\n",
    "query = query.lower()\n",
    "query = ''.join([char if char.isalpha() or char.isspace() else '' for char in query.replace('\\n', ' ')])\n",
    "# it might seem crazy what im bout to say\n",
    "query\n",
    "\n"
   ]
  },
  {
   "cell_type": "code",
   "execution_count": 87,
   "metadata": {},
   "outputs": [],
   "source": [
    "# tokenize all documents\n",
    "tokenized_songs = {}\n",
    "for category, all_lyrics in big_songs.items():\n",
    "    tokenized_songs[category] = tokenize(all_lyrics)\n",
    "\n",
    "# calculate document lengths\n",
    "doc_lengths = {}\n",
    "for  category, all_lyrics in tokenized_songs.items():\n",
    "    doc_lengths[category] = len(all_lyrics)\n",
    "\n",
    "# avg doc length\n",
    "avg_doc_length = sum(doc_lengths.values()) / len(doc_lengths)\n"
   ]
  },
  {
   "cell_type": "code",
   "execution_count": 88,
   "metadata": {},
   "outputs": [],
   "source": [
    "# calculate doc freqs\n",
    "doc_freqs = {}\n",
    "for doc in tokenized_songs.values():\n",
    "    unique_terms = set(doc)\n",
    "    for term in unique_terms:\n",
    "        doc_freqs[term] = doc_freqs.get(term, 0) + 1"
   ]
  },
  {
   "cell_type": "code",
   "execution_count": 89,
   "metadata": {},
   "outputs": [],
   "source": [
    "# bm25 algorithm\n",
    "def bm25(query, document, doc_length):\n",
    "    score = 0.0\n",
    "    query_terms = tokenize(query)\n",
    "    term_freqs = Counter(document)\n",
    "    \n",
    "    for term in query_terms:\n",
    "        if term in doc_freqs:  # term must appear in the corpus\n",
    "            # Calculate BM25 components\n",
    "            doc_freq = doc_freqs[term]\n",
    "            idf = math.log((len(big_songs) - doc_freq + 0.5) / (doc_freq + 0.5) + 1)\n",
    "            term_freq = term_freqs[term]\n",
    "            term_score = idf * (term_freq * (k1 + 1)) / (term_freq + k1 * (1 - b + b * doc_length / avg_doc_length))\n",
    "            score += term_score\n",
    "    return score"
   ]
  },
  {
   "cell_type": "code",
   "execution_count": 90,
   "metadata": {},
   "outputs": [
    {
     "name": "stdout",
     "output_type": "stream",
     "text": [
      "Document Rankings:\n",
      "Rank 1: Document uplifting with score 286.2855\n",
      "Rank 2: Document dark with score 259.6492\n",
      "Rank 3: Document energetic with score 237.5996\n",
      "Rank 4: Document dynamic with score 207.2955\n",
      "Rank 5: Document anger with score 199.8152\n",
      "Rank 6: Document fierce with score 193.4736\n",
      "Rank 7: Document cynical with score 46.6294\n"
     ]
    }
   ],
   "source": [
    "scores = []\n",
    "for doc_id, doc in tokenized_songs.items():\n",
    "    score = bm25(query, doc, doc_lengths[doc_id])\n",
    "    scores.append((doc_id, score))\n",
    "\n",
    "# Sort documents by score in descending order\n",
    "ranked_docs = sorted(scores, key=lambda x: x[1], reverse=True)\n",
    "\n",
    "# Display the ranking results\n",
    "print(\"Document Rankings:\")\n",
    "for rank, (doc_id, score) in enumerate(ranked_docs, start=1):\n",
    "    print(f\"Rank {rank}: Document {doc_id} with score {score:.4f}\")"
   ]
  }
 ],
 "metadata": {
  "kernelspec": {
   "display_name": "Python 3",
   "language": "python",
   "name": "python3"
  },
  "language_info": {
   "codemirror_mode": {
    "name": "ipython",
    "version": 3
   },
   "file_extension": ".py",
   "mimetype": "text/x-python",
   "name": "python",
   "nbconvert_exporter": "python",
   "pygments_lexer": "ipython3",
   "version": "3.10.11"
  }
 },
 "nbformat": 4,
 "nbformat_minor": 2
}
