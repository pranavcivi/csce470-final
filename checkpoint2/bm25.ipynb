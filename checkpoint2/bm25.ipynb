{
 "cells": [
  {
   "cell_type": "code",
   "execution_count": 128,
   "metadata": {},
   "outputs": [
    {
     "name": "stderr",
     "output_type": "stream",
     "text": [
      "[nltk_data] Downloading package stopwords to\n",
      "[nltk_data]     C:\\Users\\civip\\AppData\\Roaming\\nltk_data...\n",
      "[nltk_data]   Package stopwords is already up-to-date!\n"
     ]
    }
   ],
   "source": [
    "import math\n",
    "from collections import Counter\n",
    "import pickle\n",
    "import re\n",
    "import nltk\n",
    "from nltk.corpus import stopwords\n",
    "from lyricsgenius import Genius\n",
    "\n",
    "with open('../lyrics-updated.pkl', 'rb') as f:\n",
    "    song_lyrics = pickle.load(f)\n",
    "\n",
    "\n",
    "with open('../classifications.pkl', 'rb') as f1:\n",
    "    classifications = pickle.load(f1)\n",
    "\n",
    "with open('../output/big-songs-updated.pkl', 'rb') as f2:\n",
    "    big_songs = pickle.load(f2)\n",
    "\n",
    "nltk.download('stopwords')\n",
    "stop_words = set(stopwords.words('english'))\n",
    "def tokenize(lyrics):\n",
    "    words = lyrics.lower().split()\n",
    "    return [word for word in words if word not in stop_words]\n",
    "\n",
    "k1 = 1.0\n",
    "b = 0.9"
   ]
  },
  {
   "cell_type": "code",
   "execution_count": 129,
   "metadata": {},
   "outputs": [
    {
     "name": "stdout",
     "output_type": "stream",
     "text": [
      "Searching for \"Tears in Heaven\" by Eric Clapton...\n",
      "Done.\n"
     ]
    }
   ],
   "source": [
    "# call the api to get the lyrics\n",
    "\n",
    "genius = Genius('HhcPCGMwENzdfMQlauEV1Om0UormkWc6Wrwxri-LFTfBSNkzhwMSVUnR5tZG8eXW')\n",
    "genius.remove_section_headers = True\n",
    "genius.skip_non_songs = False\n",
    "genius.excluded_terms = [\"Remix\", \"Live\"]\n",
    "\n",
    "# song_name = \"Happy\"\n",
    "# artist = \"Pharrel Williams\"\n",
    "# song_name = \"Firework\"\n",
    "# artist = \"Katy Perry\"\n",
    "# song_name = \"I Hate Everything About You\"\n",
    "# artist = \"Three Days Grace\"\n",
    "# song_name = \"Coffee\"\n",
    "# artist = \"Chappell Roan\"\n",
    "song_name = \"Tears in Heaven\"\n",
    "artist = \"Eric Clapton\"\n",
    "\n",
    "\n",
    "song = genius.search_song(song_name, artist)\n",
    "pos = song.lyrics.find(f'{song_name} Lyrics')\n",
    "query = song.lyrics[pos:]\n",
    "\n"
   ]
  },
  {
   "cell_type": "code",
   "execution_count": 131,
   "metadata": {},
   "outputs": [],
   "source": [
    "# tokenize all documents\n",
    "tokenized_songs = {}\n",
    "for category, all_lyrics in big_songs.items():\n",
    "    tokenized_songs[category] = tokenize(all_lyrics)\n",
    "\n",
    "# calculate document lengths\n",
    "doc_lengths = {}\n",
    "for  category, all_lyrics in tokenized_songs.items():\n",
    "    doc_lengths[category] = len(all_lyrics)\n",
    "\n",
    "# avg doc length\n",
    "avg_doc_length = sum(doc_lengths.values()) / len(doc_lengths)\n"
   ]
  },
  {
   "cell_type": "code",
   "execution_count": 132,
   "metadata": {},
   "outputs": [],
   "source": [
    "# calculate doc freqs\n",
    "doc_freqs = {}\n",
    "for doc in tokenized_songs.values():\n",
    "    unique_terms = set(doc)\n",
    "    for term in unique_terms:\n",
    "        doc_freqs[term] = doc_freqs.get(term, 0) + 1"
   ]
  },
  {
   "cell_type": "code",
   "execution_count": 134,
   "metadata": {},
   "outputs": [],
   "source": [
    "scores = []\n",
    "for doc_id, doc in tokenized_songs.items():\n",
    "    score = bm25(query, doc, doc_lengths[doc_id])\n",
    "    scores.append((doc_id, score))\n",
    "\n",
    "# Sort documents by score in descending order\n",
    "ranked_docs = sorted(scores, key=lambda x: x[1], reverse=True)\n",
    "\n",
    "# Display the ranking results\n",
    "print(\"Document Rankings:\")\n",
    "for rank, (doc_id, score) in enumerate(ranked_docs, start=1):\n",
    "    print(f\"Rank {rank}: Document {doc_id} with score {score:.4f}\")"
   ]
  }
 ],
 "metadata": {
  "kernelspec": {
   "display_name": "Python 3",
   "language": "python",
   "name": "python3"
  },
  "language_info": {
   "codemirror_mode": {
    "name": "ipython",
    "version": 3
   },
   "file_extension": ".py",
   "mimetype": "text/x-python",
   "name": "python",
   "nbconvert_exporter": "python",
   "pygments_lexer": "ipython3",
   "version": "3.10.11"
  }
 },
 "nbformat": 4,
 "nbformat_minor": 2
}
