{
 "cells": [
  {
   "cell_type": "code",
   "execution_count": 5,
   "metadata": {},
   "outputs": [],
   "source": [
    "import pandas as pd\n",
    "import pickle\n",
    "big_songs = {}"
   ]
  },
  {
   "cell_type": "code",
   "execution_count": 6,
   "metadata": {},
   "outputs": [],
   "source": [
    "df = pd.read_excel('lyrics.xlsx', sheet_name='muse_v3')\n",
    "\n",
    "with open('lyrics-updated.pkl', 'rb') as f:\n",
    "    song_lyrics = pickle.load(f)\n",
    "\n",
    "with open('classifications.pkl', 'rb') as f1:\n",
    "    classifications = pickle.load(f1)\n",
    "\n",
    "# count = 12005\n",
    "\n",
    "for index, row in df.iterrows():\n",
    "    # if count <= 0:\n",
    "    #     break\n",
    "    track = row['track']\n",
    "    if track not in song_lyrics:\n",
    "        continue\n",
    "    lyrics = song_lyrics[track]\n",
    "    lyrics = lyrics.replace('\\n', ' ').replace(\"\\'\", \"’\").lower()\n",
    "    # print(lyrics)\n",
    "\n",
    "    seeds = row['seeds'][1:-1].split(',')\n",
    "    foundBucket = False\n",
    "    for seed in seeds:\n",
    "        for group in classifications.keys():\n",
    "            if seed in classifications[group]:\n",
    "                if group in big_songs:\n",
    "                    big_songs[group] += lyrics\n",
    "                else:\n",
    "                    big_songs[group] = lyrics\n",
    "    \n",
    "    # count -= 1"
   ]
  },
  {
   "cell_type": "code",
   "execution_count": 7,
   "metadata": {},
   "outputs": [],
   "source": [
    "# with open('./output/big_songs.txt', 'w', encoding='utf-8') as f_out:\n",
    "#     f_out.write(str(big_songs))\n",
    "\n",
    "with open('big_songs.pkl', 'wb') as f3:\n",
    "    pickle.dump(big_songs, f3)"
   ]
  },
  {
   "cell_type": "code",
   "execution_count": 8,
   "metadata": {},
   "outputs": [],
   "source": [
    "with open('./output/big_songs.txt', 'w', encoding='utf-8') as f_out:\n",
    "    f_out.write(str(big_songs))"
   ]
  }
 ],
 "metadata": {
  "kernelspec": {
   "display_name": "Python 3",
   "language": "python",
   "name": "python3"
  },
  "language_info": {
   "codemirror_mode": {
    "name": "ipython",
    "version": 3
   },
   "file_extension": ".py",
   "mimetype": "text/x-python",
   "name": "python",
   "nbconvert_exporter": "python",
   "pygments_lexer": "ipython3",
   "version": "3.10.11"
  }
 },
 "nbformat": 4,
 "nbformat_minor": 2
}
